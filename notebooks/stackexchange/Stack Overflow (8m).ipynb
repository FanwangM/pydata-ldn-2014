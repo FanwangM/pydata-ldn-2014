{
 "metadata": {
  "name": ""
 },
 "nbformat": 3,
 "nbformat_minor": 0,
 "worksheets": [
  {
   "cells": [
    {
     "cell_type": "code",
     "collapsed": false,
     "input": [
      "%matplotlib inline"
     ],
     "language": "python",
     "metadata": {},
     "outputs": [],
     "prompt_number": 1
    },
    {
     "cell_type": "code",
     "collapsed": false,
     "input": [
      "import pandas\n",
      "import psycopg2\n",
      "connection = psycopg2.connect(user='pydata', password='pydata', dbname='pydata', host='localhost')"
     ],
     "language": "python",
     "metadata": {},
     "outputs": [],
     "prompt_number": 3
    },
    {
     "cell_type": "markdown",
     "metadata": {
      "slideshow": {
       "slide_type": "-"
      }
     },
     "source": [
      "# Partial stack overflow data\n",
      "\n",
      "* Roughly 8 million posts\n",
      "\n"
     ]
    },
    {
     "cell_type": "code",
     "collapsed": false,
     "input": [
      "cursor = connection.cursor()\n",
      "cursor.execute('SELECT count(id) from posts;')\n",
      "cursor.fetchall()[0][0]"
     ],
     "language": "python",
     "metadata": {},
     "outputs": [
      {
       "metadata": {},
       "output_type": "pyout",
       "prompt_number": 22,
       "text": [
        "7815000L"
       ]
      }
     ],
     "prompt_number": 22
    },
    {
     "cell_type": "code",
     "collapsed": false,
     "input": [
      "stack_by_date = pandas.io.sql.read_sql('''\\\n",
      "   SELECT to_char(posts.creation_date, 'YYYY-MM-DD') as creation_date,\n",
      "          tags.text as tag,\n",
      "          count(posts.id)\n",
      "     FROM posts, tags, post_tags\n",
      "    WHERE post_tags.post_id = posts.id\n",
      "      AND post_tags.forum_id = posts.forum_id\n",
      "      AND post_tags.tag_id = tags.id\n",
      " GROUP BY creation_date,\n",
      "          tag;\n",
      "''', connection)\n",
      "\n",
      "stack_by_date = stack_by_date.set_index('creation_date')\n",
      "stack_by_date.index = pandas.to_datetime(stack_by_date.index)"
     ],
     "language": "python",
     "metadata": {},
     "outputs": [],
     "prompt_number": 14
    },
    {
     "cell_type": "markdown",
     "metadata": {},
     "source": [
      "### What are the most popular topics in stackoverflow?"
     ]
    },
    {
     "cell_type": "code",
     "collapsed": false,
     "input": [
      "tags_by_count = stack_by_date.groupby(['tag'])['count'].sum().order()\n",
      "tags_by_count[tags_by_count > 20000]"
     ],
     "language": "python",
     "metadata": {},
     "outputs": [
      {
       "metadata": {},
       "output_type": "pyout",
       "prompt_number": 15,
       "text": [
        "tag\n",
        "string             20113\n",
        "multithreading     20372\n",
        "eclipse            20546\n",
        "winforms           21700\n",
        "xcode              22087\n",
        "arrays             23826\n",
        "linux              24635\n",
        "vb.net             25814\n",
        "django             27283\n",
        "windows            27769\n",
        "database           28985\n",
        "ajax               30488\n",
        "regex              30854\n",
        "asp.net-mvc        33933\n",
        "xml                34142\n",
        "ruby               37839\n",
        "wpf                38836\n",
        "sql-server         39180\n",
        "ios                42344\n",
        "c                  49512\n",
        "css                59604\n",
        "ruby-on-rails      60648\n",
        "sql                68018\n",
        "objective-c        68815\n",
        "html               76521\n",
        "mysql              78735\n",
        "python             90343\n",
        "asp.net           103052\n",
        ".net              103739\n",
        "c++               106233\n",
        "iphone            114180\n",
        "android           130726\n",
        "jquery            145174\n",
        "javascript        168600\n",
        "php               185828\n",
        "java              197675\n",
        "c#                257881\n",
        "Name: count, dtype: int64"
       ]
      }
     ],
     "prompt_number": 15
    },
    {
     "cell_type": "markdown",
     "metadata": {},
     "source": [
      "### Number theory, probability, calculus\n",
      "# Homework!\n",
      "\n",
      "How many posts about `homework` every month?"
     ]
    },
    {
     "cell_type": "code",
     "collapsed": false,
     "input": [
      "multithreading_by_date = stack_by_date[\n",
      "    stack_by_date['tag'] == 'multithreading']\n",
      "multithreading = multithreading_by_date.groupby(\n",
      "    multithreading_by_date.index).size().order()\n",
      "multithreading"
     ],
     "language": "python",
     "metadata": {},
     "outputs": [
      {
       "metadata": {},
       "output_type": "pyout",
       "prompt_number": 16,
       "text": [
        "2008-08-04    1\n",
        "2008-08-05    1\n",
        "2008-08-08    1\n",
        "2008-08-16    1\n",
        "2008-08-21    1\n",
        "2008-08-25    1\n",
        "2008-09-05    1\n",
        "2008-09-09    1\n",
        "2008-09-14    1\n",
        "2008-10-04    1\n",
        "2008-10-12    1\n",
        "2008-10-18    1\n",
        "2008-10-19    1\n",
        "2008-11-01    1\n",
        "2008-11-09    1\n",
        "...\n",
        "2011-04-14    41\n",
        "2011-07-20    41\n",
        "2011-07-21    41\n",
        "2011-02-28    42\n",
        "2011-03-04    42\n",
        "2011-12-01    42\n",
        "2011-12-02    42\n",
        "2012-01-11    42\n",
        "2011-11-30    43\n",
        "2011-12-20    43\n",
        "2012-01-25    43\n",
        "2012-02-01    43\n",
        "2011-06-16    44\n",
        "2011-08-24    46\n",
        "2011-04-11    48\n",
        "Length: 1265"
       ]
      }
     ],
     "prompt_number": 16
    },
    {
     "cell_type": "code",
     "collapsed": false,
     "input": [
      "multithreading.plot()"
     ],
     "language": "python",
     "metadata": {},
     "outputs": [
      {
       "metadata": {},
       "output_type": "pyout",
       "prompt_number": 17,
       "text": [
        "<matplotlib.axes.AxesSubplot at 0xf2f27690>"
       ]
      },
      {
       "metadata": {},
       "output_type": "display_data",
       "png": "[encoded data removed]",
       "text": [
        "<matplotlib.figure.Figure at 0x29ba8710>"
       ]
      }
     ],
     "prompt_number": 17
    },
    {
     "cell_type": "code",
     "collapsed": false,
     "input": [
      "stack_by_month = pandas.io.sql.read_sql('''\\\n",
      "   SELECT to_char(posts.creation_date, 'YYYY-MM') as creation_date,\n",
      "          tags.text as tag,\n",
      "          count(posts.id)\n",
      "     FROM posts, tags, post_tags\n",
      "    WHERE post_tags.post_id = posts.id\n",
      "      AND post_tags.forum_id = posts.forum_id\n",
      "      AND posts.forum_id = 1\n",
      "      AND post_tags.tag_id = tags.id\n",
      " GROUP BY creation_date,\n",
      "          tag;\n",
      "''', connection)\n",
      "\n",
      "stack_by_month = stack_by_month.set_index('creation_date')\n",
      "stack_by_month.index = pandas.to_datetime(stack_by_month.index)\n"
     ],
     "language": "python",
     "metadata": {},
     "outputs": [],
     "prompt_number": 10
    },
    {
     "cell_type": "code",
     "collapsed": false,
     "input": [
      "multithreading_by_month = stack_by_month[\n",
      "    stack_by_month['tag'] == 'multithreading']\n",
      "multithreading_by_month_trend = multithreading_by_month.groupby(\n",
      "    multithreading_by_month.index).size().order()\n",
      "multithreading_by_month_trend"
     ],
     "language": "python",
     "metadata": {},
     "outputs": [
      {
       "metadata": {},
       "output_type": "pyout",
       "prompt_number": 18,
       "text": [
        "2008-08-01     43\n",
        "2008-11-01    107\n",
        "2008-12-01    137\n",
        "2008-10-01    149\n",
        "2008-09-01    162\n",
        "2012-02-01    164\n",
        "2009-01-01    168\n",
        "2009-03-01    216\n",
        "2009-02-01    217\n",
        "2009-05-01    236\n",
        "2009-06-01    253\n",
        "2009-04-01    272\n",
        "2009-07-01    278\n",
        "2009-09-01    319\n",
        "2009-08-01    330\n",
        "2009-10-01    383\n",
        "2009-11-01    386\n",
        "2009-12-01    392\n",
        "2010-01-01    436\n",
        "2010-02-01    455\n",
        "2010-04-01    461\n",
        "2010-06-01    477\n",
        "2010-05-01    483\n",
        "2010-09-01    496\n",
        "2010-10-01    499\n",
        "2010-08-01    501\n",
        "2010-03-01    504\n",
        "2010-07-01    513\n",
        "2010-11-01    583\n",
        "2010-12-01    607\n",
        "2011-02-01    632\n",
        "2011-01-01    657\n",
        "2011-09-01    734\n",
        "2011-10-01    748\n",
        "2011-05-01    758\n",
        "2011-06-01    794\n",
        "2011-07-01    798\n",
        "2011-04-01    814\n",
        "2011-11-01    826\n",
        "2011-03-01    832\n",
        "2011-08-01    843\n",
        "2011-12-01    843\n",
        "2012-01-01    866\n",
        "dtype: int64"
       ]
      }
     ],
     "prompt_number": 18
    },
    {
     "cell_type": "code",
     "collapsed": false,
     "input": [
      "multithreading_by_month_trend.plot()"
     ],
     "language": "python",
     "metadata": {},
     "outputs": [
      {
       "metadata": {},
       "output_type": "pyout",
       "prompt_number": 19,
       "text": [
        "<matplotlib.axes.AxesSubplot at 0x32256890>"
       ]
      },
      {
       "metadata": {},
       "output_type": "display_data",
       "png": "[encoded data removed]",
       "text": [
        "<matplotlib.figure.Figure at 0x34665110>"
       ]
      }
     ],
     "prompt_number": 19
    }
   ],
   "metadata": {}
  }
 ]
}