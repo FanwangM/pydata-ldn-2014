{
 "metadata": {
  "name": ""
 },
 "nbformat": 3,
 "nbformat_minor": 0,
 "worksheets": [
  {
   "cells": [
    {
     "cell_type": "code",
     "collapsed": false,
     "input": [
      "%matplotlib inline"
     ],
     "language": "python",
     "metadata": {},
     "outputs": [],
     "prompt_number": 1
    },
    {
     "cell_type": "code",
     "collapsed": false,
     "input": [
      "import pandas\n",
      "import psycopg2\n",
      "connection = psycopg2.connect(user='simon', dbname='simon')"
     ],
     "language": "python",
     "metadata": {},
     "outputs": [],
     "prompt_number": 2
    },
    {
     "cell_type": "markdown",
     "metadata": {
      "slideshow": {
       "slide_type": "-"
      }
     },
     "source": [
      "# Crossing the boundary from database to Python\n",
      "\n",
      "## The data: Stack Exchange Network\n",
      "\n",
      "* Very large community forum\n",
      "* 115 sites\n",
      "* Roughly 7 million questions and 13 million answers in total\n",
      "\n",
      "## A smaller example: math.stackexchange.com\n",
      "\n",
      "Choosing the second-largest site from Stack Exchange, we have:\n",
      "\n",
      "* A total of 600 thousand posts\n",
      "\n",
      " * 240 thousand questions\n",
      "\n",
      " * 360 thousand answers\n",
      "\n",
      "\n",
      "### Crossing the boundary\n",
      "\n",
      "* We have a reasonably large data set such that we might not want it all in memory at once.\n",
      "* Use the database to reduce the data set to something innteresting that we can easily work with in Python.\n",
      " * Reduced data set is the number of posts with any given tag in a particular month.\n",
      "* Use `pandas.io.sql` to retrieve the reduced data set."
     ]
    },
    {
     "cell_type": "code",
     "collapsed": false,
     "input": [
      "math_by_date = pandas.io.sql.read_sql('''\\\n",
      "   SELECT to_char(posts.creation_date, 'YYYY-MM-DD') as creation_date,\n",
      "          tags.text as tag,\n",
      "          count(posts.id)\n",
      "     FROM posts, tags, post_tags\n",
      "    WHERE post_tags.post_id = posts.id\n",
      "      AND post_tags.forum_id = posts.forum_id\n",
      "      AND post_tags.tag_id = tags.id\n",
      " GROUP BY creation_date,\n",
      "          tag;\n",
      "''', connection)\n",
      "\n",
      "math_by_date = math_by_date.set_index('creation_date')\n",
      "math_by_date.index = pandas.to_datetime(math_by_date.index)"
     ],
     "language": "python",
     "metadata": {},
     "outputs": [],
     "prompt_number": 20
    },
    {
     "cell_type": "markdown",
     "metadata": {},
     "source": [
      "### What are the most popular topics in mathematics?"
     ]
    },
    {
     "cell_type": "code",
     "collapsed": false,
     "input": [
      "tags_by_count = math_by_date.groupby(['tag'])['count'].sum().order()\n",
      "tags_by_count[tags_by_count > 5000]"
     ],
     "language": "python",
     "metadata": {},
     "outputs": [
      {
       "metadata": {},
       "output_type": "pyout",
       "prompt_number": 23,
       "text": [
        "tag\n",
        "differential-equations       5031\n",
        "statistics                   5195\n",
        "measure-theory               5218\n",
        "elementary-number-theory     5733\n",
        "functional-analysis          6309\n",
        "number-theory                6783\n",
        "matrices                     7018\n",
        "analysis                     7064\n",
        "geometry                     7162\n",
        "algebra-precalculus          7207\n",
        "complex-analysis             7331\n",
        "group-theory                 7706\n",
        "combinatorics                8049\n",
        "sequences-and-series         8205\n",
        "integration                  8403\n",
        "general-topology             8436\n",
        "abstract-algebra            12393\n",
        "probability                 12997\n",
        "linear-algebra              16035\n",
        "real-analysis               16799\n",
        "calculus                    17623\n",
        "homework                    21847\n",
        "Name: count, dtype: int64"
       ]
      }
     ],
     "prompt_number": 23
    },
    {
     "cell_type": "markdown",
     "metadata": {},
     "source": [
      "### Number theory, probability, calculus\n",
      "# Homework!\n",
      "\n",
      "How many posts about `homework` every month?"
     ]
    },
    {
     "cell_type": "code",
     "collapsed": false,
     "input": [
      "homework_by_date = math_by_date[\n",
      "    math_by_date['tag'] == 'homework']\n",
      "homework = homework_by_date.groupby(\n",
      "    homework_by_date.index).size().order()\n",
      "homework"
     ],
     "language": "python",
     "metadata": {},
     "outputs": [
      {
       "metadata": {},
       "output_type": "pyout",
       "prompt_number": 24,
       "text": [
        "2010-07-22    1\n",
        "2010-08-04    1\n",
        "2010-08-13    1\n",
        "2010-08-23    1\n",
        "2010-08-28    1\n",
        "2010-08-31    1\n",
        "2010-09-02    1\n",
        "2010-09-04    1\n",
        "2010-09-15    1\n",
        "2010-09-19    1\n",
        "2010-09-20    1\n",
        "2010-09-23    1\n",
        "2010-09-24    1\n",
        "2010-09-28    1\n",
        "2010-09-30    1\n",
        "...\n",
        "2013-11-04    63\n",
        "2013-11-18    64\n",
        "2013-11-06    65\n",
        "2013-12-08    65\n",
        "2013-11-20    66\n",
        "2013-12-03    66\n",
        "2013-11-24    67\n",
        "2013-11-11    68\n",
        "2013-11-26    68\n",
        "2013-11-05    69\n",
        "2013-11-19    69\n",
        "2013-12-09    71\n",
        "2013-12-02    72\n",
        "2013-10-20    73\n",
        "2013-10-21    73\n",
        "Length: 1202"
       ]
      }
     ],
     "prompt_number": 24
    },
    {
     "cell_type": "code",
     "collapsed": false,
     "input": [
      "homework.plot()"
     ],
     "language": "python",
     "metadata": {},
     "outputs": [
      {
       "metadata": {},
       "output_type": "pyout",
       "prompt_number": 25,
       "text": [
        "<matplotlib.axes.AxesSubplot at 0x156ad450>"
       ]
      },
      {
       "metadata": {},
       "output_type": "display_data",
       "png": "[encoded data removed]",
       "text": [
        "<matplotlib.figure.Figure at 0x97dfe90>"
       ]
      }
     ],
     "prompt_number": 25
    },
    {
     "cell_type": "markdown",
     "metadata": {},
     "source": [
      "### Obvious periodic trend. Too noisy?"
     ]
    },
    {
     "cell_type": "code",
     "collapsed": false,
     "input": [
      "math_by_month = pandas.io.sql.read_sql('''\\\n",
      "   SELECT to_char(posts.creation_date, 'YYYY-MM') as creation_date,\n",
      "          tags.text as tag,\n",
      "          count(posts.id)\n",
      "     FROM posts, tags, post_tags\n",
      "    WHERE post_tags.post_id = posts.id\n",
      "      AND post_tags.forum_id = posts.forum_id\n",
      "      AND posts.forum_id = 1\n",
      "      AND post_tags.tag_id = tags.id\n",
      " GROUP BY creation_date,\n",
      "          tag;\n",
      "''', connection)\n",
      "\n",
      "math_by_month = math_by_month.set_index('creation_date')\n",
      "math_by_month.index = pandas.to_datetime(math_by_month.index)"
     ],
     "language": "python",
     "metadata": {},
     "outputs": [],
     "prompt_number": 27
    },
    {
     "cell_type": "code",
     "collapsed": false,
     "input": [
      "homework_by_month = math_by_month[\n",
      "    math_by_month['tag'] == 'homework']\n",
      "homework_by_month_trend = homework_by_month.groupby(\n",
      "    homework_by_month.index).size().order()\n",
      "homework_by_month_trend"
     ],
     "language": "python",
     "metadata": {},
     "outputs": [
      {
       "metadata": {},
       "output_type": "pyout",
       "prompt_number": 32,
       "text": [
        "2010-07-01       1\n",
        "2010-08-01       7\n",
        "2010-09-01      15\n",
        "2010-10-01      51\n",
        "2010-12-01      67\n",
        "2011-01-01     102\n",
        "2011-07-01     102\n",
        "2010-11-01     103\n",
        "2011-02-01     110\n",
        "2011-08-01     113\n",
        "2011-06-01     124\n",
        "2011-03-01     157\n",
        "2011-04-01     183\n",
        "2011-05-01     184\n",
        "2011-12-01     267\n",
        "2011-09-01     285\n",
        "2012-01-01     297\n",
        "2012-08-01     324\n",
        "2012-07-01     329\n",
        "2012-02-01     339\n",
        "2012-03-01     386\n",
        "2011-10-01     417\n",
        "2012-06-01     434\n",
        "2011-11-01     437\n",
        "2012-04-01     481\n",
        "2012-05-01     501\n",
        "2014-01-01     524\n",
        "2012-09-01     537\n",
        "2013-08-01     576\n",
        "2013-07-01     646\n",
        "2012-12-01     698\n",
        "2013-06-01     757\n",
        "2013-01-01     768\n",
        "2012-10-01     815\n",
        "2012-11-01     960\n",
        "2013-09-01    1036\n",
        "2013-02-01    1043\n",
        "2013-05-01    1044\n",
        "2013-12-01    1122\n",
        "2013-03-01    1197\n",
        "2013-04-01    1199\n",
        "2013-11-01    1551\n",
        "2013-10-01    1558\n",
        "dtype: int64"
       ]
      }
     ],
     "prompt_number": 32
    },
    {
     "cell_type": "code",
     "collapsed": false,
     "input": [
      "homework_by_month_trend.plot()"
     ],
     "language": "python",
     "metadata": {},
     "outputs": [
      {
       "metadata": {},
       "output_type": "pyout",
       "prompt_number": 30,
       "text": [
        "<matplotlib.axes.AxesSubplot at 0x6869ad0>"
       ]
      },
      {
       "metadata": {},
       "output_type": "display_data",
       "png": "[encoded data removed]",
       "text": [
        "<matplotlib.figure.Figure at 0xbea31d0>"
       ]
      }
     ],
     "prompt_number": 30
    },
    {
     "cell_type": "markdown",
     "metadata": {},
     "source": [
      "### Cycles related to term time?"
     ]
    }
   ],
   "metadata": {}
  }
 ]
}