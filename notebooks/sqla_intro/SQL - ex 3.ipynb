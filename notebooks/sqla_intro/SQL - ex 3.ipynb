{
 "metadata": {
  "name": ""
 },
 "nbformat": 3,
 "nbformat_minor": 0,
 "worksheets": [
  {
   "cells": [
    {
     "cell_type": "code",
     "collapsed": false,
     "input": [
      "import sqlite3\n",
      "import csv\n",
      "\n",
      "# Create a database in memory\n",
      "db = sqlite3.connect(\":memory:\")\n",
      "c = db.cursor()\n",
      "\n",
      "c.execute(\"CREATE TABLE states (id INT PRIMARY KEY, name STRING(30), UNIQUE(name))\")\n",
      "c.execute(\"\"\"CREATE TABLE cities (\n",
      "    id INT PRIMARY KEY,\n",
      "    name STRING(30),\n",
      "    state_id INTEGER,\n",
      "    population INTEGER,\n",
      "    FOREIGN KEY(state_id) REFERENCES states(id))\"\"\")\n",
      "# sqlite does not enable foreign key constraints by default\n",
      "c.execute(\"PRAGMA foreign_keys = ON;\")"
     ],
     "language": "python",
     "metadata": {},
     "outputs": [
      {
       "metadata": {},
       "output_type": "pyout",
       "prompt_number": 1,
       "text": [
        "<sqlite3.Cursor at 0x1022d5b20>"
       ]
      }
     ],
     "prompt_number": 1
    },
    {
     "cell_type": "code",
     "collapsed": true,
     "input": [
      "with open(\"states_only.csv\") as fid:\n",
      "    reader = csv.reader(fid)\n",
      "    for i, (state,) in enumerate(reader):\n",
      "        c.execute(\"INSERT INTO states VALUES(?, ?)\", (i, state))\n",
      "with open(\"cities_only.csv\") as fid:\n",
      "    reader = csv.reader(fid)\n",
      "    for i, (name, state_id, population) in enumerate(reader):\n",
      "        c.execute(\"INSERT INTO cities VALUES(?, ?, ?, ?)\", (i, name, state_id, population))"
     ],
     "language": "python",
     "metadata": {},
     "outputs": [
      {
       "ename": "IOError",
       "evalue": "[Errno 2] No such file or directory: 'states_only.csv'",
       "output_type": "pyerr",
       "traceback": [
        "\u001b[0;31m---------------------------------------------------------------------------\u001b[0m\n\u001b[0;31mIOError\u001b[0m                                   Traceback (most recent call last)",
        "\u001b[0;32m<ipython-input-2-484195d56e1a>\u001b[0m in \u001b[0;36m<module>\u001b[0;34m()\u001b[0m\n\u001b[0;32m----> 1\u001b[0;31m \u001b[0;32mwith\u001b[0m \u001b[0mopen\u001b[0m\u001b[0;34m(\u001b[0m\u001b[0;34m\"states_only.csv\"\u001b[0m\u001b[0;34m)\u001b[0m \u001b[0;32mas\u001b[0m \u001b[0mfid\u001b[0m\u001b[0;34m:\u001b[0m\u001b[0;34m\u001b[0m\u001b[0m\n\u001b[0m\u001b[1;32m      2\u001b[0m     \u001b[0mreader\u001b[0m \u001b[0;34m=\u001b[0m \u001b[0mcsv\u001b[0m\u001b[0;34m.\u001b[0m\u001b[0mreader\u001b[0m\u001b[0;34m(\u001b[0m\u001b[0mfid\u001b[0m\u001b[0;34m)\u001b[0m\u001b[0;34m\u001b[0m\u001b[0m\n\u001b[1;32m      3\u001b[0m     \u001b[0;32mfor\u001b[0m \u001b[0mi\u001b[0m\u001b[0;34m,\u001b[0m \u001b[0;34m(\u001b[0m\u001b[0mstate\u001b[0m\u001b[0;34m,\u001b[0m\u001b[0;34m)\u001b[0m \u001b[0;32min\u001b[0m \u001b[0menumerate\u001b[0m\u001b[0;34m(\u001b[0m\u001b[0mreader\u001b[0m\u001b[0;34m)\u001b[0m\u001b[0;34m:\u001b[0m\u001b[0;34m\u001b[0m\u001b[0m\n\u001b[1;32m      4\u001b[0m         \u001b[0mc\u001b[0m\u001b[0;34m.\u001b[0m\u001b[0mexecute\u001b[0m\u001b[0;34m(\u001b[0m\u001b[0;34m\"INSERT INTO states VALUES(?, ?)\"\u001b[0m\u001b[0;34m,\u001b[0m \u001b[0;34m(\u001b[0m\u001b[0mi\u001b[0m\u001b[0;34m,\u001b[0m \u001b[0mstate\u001b[0m\u001b[0;34m)\u001b[0m\u001b[0;34m)\u001b[0m\u001b[0;34m\u001b[0m\u001b[0m\n\u001b[1;32m      5\u001b[0m \u001b[0;32mwith\u001b[0m \u001b[0mopen\u001b[0m\u001b[0;34m(\u001b[0m\u001b[0;34m\"cities_only.csv\"\u001b[0m\u001b[0;34m)\u001b[0m \u001b[0;32mas\u001b[0m \u001b[0mfid\u001b[0m\u001b[0;34m:\u001b[0m\u001b[0;34m\u001b[0m\u001b[0m\n",
        "\u001b[0;31mIOError\u001b[0m: [Errno 2] No such file or directory: 'states_only.csv'"
       ]
      }
     ],
     "prompt_number": 2
    },
    {
     "cell_type": "code",
     "collapsed": false,
     "input": [
      "c.execute(\"INSERT INTO cities (name, state_id, population) VALUES('Honolulu', 32, 955775)\")"
     ],
     "language": "python",
     "metadata": {},
     "outputs": [
      {
       "ename": "IntegrityError",
       "evalue": "foreign key constraint failed",
       "output_type": "pyerr",
       "traceback": [
        "<span class=\"ansired\">---------------------------------------------------------------------------</span>\n<span class=\"ansired\">IntegrityError</span>                            Traceback (most recent call last)",
        "<span class=\"ansigreen\">/Users/david/Documents/Pydata/notebooks/&lt;ipython-input-23-ed48eb16b30f&gt;</span> in <span class=\"ansicyan\">&lt;module&gt;</span><span class=\"ansiblue\">()</span>\n<span class=\"ansigreen\">----&gt; 1</span><span class=\"ansired\"> </span>c<span class=\"ansiblue\">.</span>execute<span class=\"ansiblue\">(</span><span class=\"ansiblue\">&quot;INSERT INTO cities (name, state_id, population) VALUES(&apos;Honolulu&apos;, 32, 955775)&quot;</span><span class=\"ansiblue\">)</span><span class=\"ansiblue\"></span>\n",
        "<span class=\"ansired\">IntegrityError</span>: foreign key constraint failed"
       ]
      }
     ],
     "prompt_number": 23
    },
    {
     "cell_type": "code",
     "collapsed": false,
     "input": [
      "c.execute(\"INSERT INTO states (name) VALUES('Tex.')\")"
     ],
     "language": "python",
     "metadata": {},
     "outputs": [
      {
       "ename": "IntegrityError",
       "evalue": "column name is not unique",
       "output_type": "pyerr",
       "traceback": [
        "<span class=\"ansired\">---------------------------------------------------------------------------</span>\n<span class=\"ansired\">IntegrityError</span>                            Traceback (most recent call last)",
        "<span class=\"ansigreen\">/Users/david/Documents/Pydata/notebooks/&lt;ipython-input-24-55489b4c933b&gt;</span> in <span class=\"ansicyan\">&lt;module&gt;</span><span class=\"ansiblue\">()</span>\n<span class=\"ansigreen\">----&gt; 1</span><span class=\"ansired\"> </span>c<span class=\"ansiblue\">.</span>execute<span class=\"ansiblue\">(</span><span class=\"ansiblue\">&quot;INSERT INTO states (name) VALUES(&apos;Tex.&apos;)&quot;</span><span class=\"ansiblue\">)</span><span class=\"ansiblue\"></span>\n",
        "<span class=\"ansired\">IntegrityError</span>: column name is not unique"
       ]
      }
     ],
     "prompt_number": 24
    },
    {
     "cell_type": "code",
     "collapsed": true,
     "input": [],
     "language": "python",
     "metadata": {},
     "outputs": [],
     "prompt_number": "&nbsp;"
    }
   ],
   "metadata": {}
  }
 ]
}