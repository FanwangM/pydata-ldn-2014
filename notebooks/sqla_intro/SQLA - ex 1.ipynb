{
 "metadata": {
  "name": ""
 },
 "nbformat": 3,
 "nbformat_minor": 0,
 "worksheets": [
  {
   "cells": [
    {
     "cell_type": "code",
     "collapsed": true,
     "input": [
      "import sqlalchemy\n",
      "from sqlalchemy import Table, Column, Integer, String\n",
      "from sqlalchemy import sql, func\n",
      "\n",
      "# Note the different way of creating in-memory databse\n",
      "db = sqlalchemy.create_engine(\"sqlite://\")\n",
      "meta_data = sqlalchemy.MetaData()\n",
      "# Declare table 'by hand'\n",
      "# autoincrement means that id will be created automatically for us if not provided\n",
      "cities = Table(\"cities\", meta_data, Column(\"id\", Integer, primary_key=True, autoincrement=True),\n",
      "        Column(\"name\", String(30)),\n",
      "        Column(\"state\", String(10)),\n",
      "        Column(\"population\", Integer))\n",
      "meta_data.create_all(db)"
     ],
     "language": "python",
     "metadata": {},
     "outputs": [],
     "prompt_number": 6
    },
    {
     "cell_type": "code",
     "collapsed": false,
     "input": [
      "# Note that we can use dict instead of sequence: less chance of errors with column order\n",
      "c = db.connect()\n",
      "c.execute(cities.insert(), {\"name\": 'Los Angeles', \"state\": 'Calif', \"population\": 3792621})\n",
      "c.execute(cities.insert(), {\"name\": 'Chicago', \"state\": 'Ill.', \"population\": 2695598})\n",
      "c.execute(cities.insert(), {\"name\": 'Houston', \"state\": 'Tex.', \"population\": 2099451})\n",
      "c.execute(cities.insert(), {\"name\": 'Philadelphia', \"state\": 'Pa.', \"population\": 1526006})\n",
      "c.execute(cities.insert(), {\"name\": 'Phoenix', \"state\": 'Ariz.', \"population\": 1445662})\n",
      "c.execute(cities.insert(), {\"name\": 'San Antonio', \"state\": 'Tex.', \"population\": 1327405})\n",
      "# cities.c gives access to the columns through attribute selection\n",
      "print c.execute(sql.select([cities.c.name])).fetchall()"
     ],
     "language": "python",
     "metadata": {},
     "outputs": [
      {
       "output_type": "stream",
       "stream": "stdout",
       "text": [
        "[(u'Los Angeles',), (u'Chicago',), (u'Houston',), (u'Philadelphia',), (u'Phoenix',), (u'San Antonio',)]\n"
       ]
      }
     ],
     "prompt_number": 7
    },
    {
     "cell_type": "code",
     "collapsed": false,
     "input": [
      "# Counting with SQLA\n",
      "print c.execute(sql.select([cities.c.id]).count()).fetchone()\n",
      "# Where conditions with SQLA\n",
      "print c.execute(sql.select([cities.c.id]).where(cities.c.population > 2000000).count()).fetchone()"
     ],
     "language": "python",
     "metadata": {},
     "outputs": [
      {
       "output_type": "stream",
       "stream": "stdout",
       "text": [
        "(6,)\n",
        "(3,)\n"
       ]
      }
     ],
     "prompt_number": 8
    },
    {
     "cell_type": "code",
     "collapsed": false,
     "input": [
      "# updating an existing row\n",
      "c.execute(sql.update(cities).\n",
      "              where(cities.c.id==2).\n",
      "              values(population=1000))\n",
      "c.execute(sql.select([cities]).where(cities.c.id==2)).fetchone()"
     ],
     "language": "python",
     "metadata": {},
     "outputs": [
      {
       "output_type": "pyout",
       "prompt_number": 24,
       "text": [
        "(2, u&apos;Chicago&apos;, u&apos;Ill.&apos;, 1000)"
       ]
      }
     ],
     "prompt_number": 24
    },
    {
     "cell_type": "code",
     "collapsed": true,
     "input": [],
     "language": "python",
     "metadata": {},
     "outputs": [],
     "prompt_number": "&nbsp;"
    }
   ],
   "metadata": {}
  }
 ]
}