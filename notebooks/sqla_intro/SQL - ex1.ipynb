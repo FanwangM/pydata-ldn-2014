{
 "metadata": {
  "name": ""
 },
 "nbformat": 3,
 "nbformat_minor": 0,
 "worksheets": [
  {
   "cells": [
    {
     "cell_type": "code",
     "collapsed": false,
     "input": [
      "import sqlite3\n",
      "\n",
      "# Create a database in memory\n",
      "db = sqlite3.connect(\":memory:\")\n",
      "# A cursor allows to iterate over results of a database table, etc...\n",
      "c = db.cursor()\n",
      "\n",
      "# Create a simple table for American cities\n",
      "#  - each column has a type\n",
      "#  - the column id will uniquely identify each row (\"primary key\")\n",
      "#  - databases often require a max length for string type\n",
      "c.execute(\"CREATE TABLE cities (id INT PRIMARY KEY, city STRING(3), state STRING(20), population INTEGER)\")\n",
      "\n",
      "c.execute(\"INSERT INTO cities VALUES (1, 'New York', 'N.Y.', 8175133)\")"
     ],
     "language": "python",
     "metadata": {},
     "outputs": [
      {
       "metadata": {},
       "output_type": "pyout",
       "prompt_number": 1,
       "text": [
        "<sqlite3.Cursor at 0x1022d5b90>"
       ]
      }
     ],
     "prompt_number": 1
    },
    {
     "cell_type": "code",
     "collapsed": false,
     "input": [
      "# Add more cities\n",
      "c.execute(\"INSERT INTO cities VALUES (2, 'Los Angeles', 'Calif', 3792621)\")\n",
      "c.execute(\"INSERT INTO cities VALUES (3, 'Chicago', 'Ill.', 2695598)\")\n",
      "c.execute(\"INSERT INTO cities VALUES (4, 'Houston', 'Tex.', 2099451)\")\n",
      "c.execute(\"INSERT INTO cities VALUES (5, 'Philadelphia', 'Pa.', 1526006)\")\n",
      "c.execute(\"INSERT INTO cities VALUES (6, 'Phoenix', 'Ariz.', 1445662)\")\n",
      "c.execute(\"INSERT INTO cities VALUES (7, 'San Antonio', 'Tex.', 1327405)\")"
     ],
     "language": "python",
     "metadata": {},
     "outputs": [
      {
       "metadata": {},
       "output_type": "pyout",
       "prompt_number": 2,
       "text": [
        "<sqlite3.Cursor at 0x1022d5b90>"
       ]
      }
     ],
     "prompt_number": 2
    },
    {
     "cell_type": "code",
     "collapsed": false,
     "input": [
      "# queries number of cities\n",
      "res = c.execute(\"SELECT COUNT(*) FROM cities\")\n",
      "# Return the first result\n",
      "print res.fetchone()"
     ],
     "language": "python",
     "metadata": {},
     "outputs": [
      {
       "output_type": "stream",
       "stream": "stdout",
       "text": [
        "(7,)\n"
       ]
      }
     ],
     "prompt_number": 3
    },
    {
     "cell_type": "code",
     "collapsed": false,
     "input": [
      "# queries cities from Texas\n",
      "res = c.execute(\"SELECT * FROM cities WHERE state = 'Tex.'\")\n",
      "# fetchall will iterate over every result\n",
      "print res.fetchall()"
     ],
     "language": "python",
     "metadata": {},
     "outputs": [
      {
       "output_type": "stream",
       "stream": "stdout",
       "text": [
        "[(4, u&apos;Houston&apos;, u&apos;Tex.&apos;, 2099451), (7, u&apos;San Antonio&apos;, u&apos;Tex.&apos;, 1327405)]"
       ]
      }
     ],
     "prompt_number": 18
    },
    {
     "cell_type": "code",
     "collapsed": false,
     "input": [
      "# queries subset of columns\n",
      "c = db.execute(\"SELECT city FROM cities WHERE state = 'Tex.'\")\n",
      "print c.fetchall()"
     ],
     "language": "python",
     "metadata": {},
     "outputs": [
      {
       "output_type": "stream",
       "stream": "stdout",
       "text": [
        "[(u&apos;Houston&apos;,), (u&apos;San Antonio&apos;,)]"
       ]
      }
     ],
     "prompt_number": 19
    },
    {
     "cell_type": "code",
     "collapsed": false,
     "input": [
      "# Delete a city\n",
      "c.execute(\"DELETE FROM cities WHERE id = 1\")\n",
      "# queries number of cities - should be one less than before\n",
      "res = c.execute(\"SELECT COUNT(*) FROM cities\")\n",
      "print res.fetchall()"
     ],
     "language": "python",
     "metadata": {},
     "outputs": [
      {
       "output_type": "stream",
       "stream": "stdout",
       "text": [
        "[(6,)]"
       ]
      }
     ],
     "prompt_number": 20
    },
    {
     "cell_type": "code",
     "collapsed": false,
     "input": [
      "# Modify a city's population\n",
      "c.execute(\"UPDATE cities SET population = 1000 WHERE id = 2\")\n",
      "print c.execute(\"SELECT population FROM cities WHERE id = 2\").fetchone()"
     ],
     "language": "python",
     "metadata": {},
     "outputs": [
      {
       "output_type": "stream",
       "stream": "stdout",
       "text": [
        "(1000,)"
       ]
      }
     ],
     "prompt_number": 28
    },
    {
     "cell_type": "code",
     "collapsed": false,
     "input": [
      "# Same, but using bound parameters\n",
      "c.execute(\"UPDATE cities SET population = ? WHERE id = ?\", (3792621, 2))\n",
      "print c.execute(\"SELECT population FROM cities WHERE id = ?\", (2,)).fetchone()"
     ],
     "language": "python",
     "metadata": {},
     "outputs": [
      {
       "output_type": "stream",
       "stream": "stdout",
       "text": [
        "(3792621,)"
       ]
      }
     ],
     "prompt_number": 31
    },
    {
     "cell_type": "code",
     "collapsed": true,
     "input": [
      "# queries number of cities\n",
      "res = c.execute(\"SELECT population FROM cities\")\n",
      "# Return the first result\n",
      "print res.fetchall()"
     ],
     "language": "python",
     "metadata": {},
     "outputs": [
      {
       "output_type": "stream",
       "stream": "stdout",
       "text": [
        "[(8175133,), (3792621,), (2695598,), (2099451,), (1526006,), (1445662,), (1327405,)]\n"
       ]
      }
     ],
     "prompt_number": 4
    },
    {
     "cell_type": "code",
     "collapsed": false,
     "input": [
      "some_values = 10\n",
      "c.execute(\"INSERT INTO cities VALUES (?, 'Los Angeles', 'Calif', 3792621)\", d) "
     ],
     "language": "python",
     "metadata": {},
     "outputs": []
    }
   ],
   "metadata": {}
  }
 ]
}