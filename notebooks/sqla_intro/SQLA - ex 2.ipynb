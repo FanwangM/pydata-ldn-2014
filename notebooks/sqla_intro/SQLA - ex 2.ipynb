{
 "metadata": {
  "name": ""
 },
 "nbformat": 3,
 "nbformat_minor": 0,
 "worksheets": [
  {
   "cells": [
    {
     "cell_type": "code",
     "collapsed": true,
     "input": [
      "import csv\n",
      "\n",
      "import sqlalchemy\n",
      "from sqlalchemy import Integer, String, Column\n",
      "from sqlalchemy.orm import sessionmaker, relationship\n",
      "from sqlalchemy.ext.declarative import declarative_base\n",
      "from sqlalchemy import and_, func, sql\n",
      "\n",
      "Base = declarative_base()\n",
      "\n",
      "class State(Base):\n",
      "    __tablename__ = \"state\"\n",
      "\n",
      "    id = Column(\"id\", Integer, primary_key=True)\n",
      "    name = Column(\"name\", String(30))\n",
      "\n",
      "    def __repr__(self):\n",
      "        return \"State(name={0})\".format(self.name)\n",
      "\n",
      "class City(Base):\n",
      "    __tablename__ = \"city\"\n",
      "\n",
      "    id = Column(\"id\", Integer, primary_key=True)\n",
      "    name = Column(\"name\", String(30))\n",
      "    state_id = Column(\"state_id\", Integer)\n",
      "    population = Column(\"population\", Integer)\n",
      "\n",
      "    def __repr__(self):\n",
      "        return \"City(name={0}, population={1})\".format(self.name, self.population)"
     ],
     "language": "python",
     "metadata": {},
     "outputs": [],
     "prompt_number": 1
    },
    {
     "cell_type": "code",
     "collapsed": true,
     "input": [
      "db = sqlalchemy.create_engine(\"sqlite://\", echo=False)\n",
      "Base.metadata.create_all(db)\n",
      "# sessionmaker is a class factory (keep one per process)\n",
      "Session = sessionmaker(bind=db)\n",
      "session = Session()"
     ],
     "language": "python",
     "metadata": {},
     "outputs": [],
     "prompt_number": 3
    },
    {
     "cell_type": "code",
     "collapsed": true,
     "input": [
      "with open(\"states_only.csv\") as fid:\n",
      "    reader = csv.reader(fid)\n",
      "    for i, (name,) in enumerate(reader):\n",
      "        state = State(name=name, id=i)\n",
      "        session.add(state)\n",
      "\n",
      "with open(\"cities_only.csv\") as fid:\n",
      "    reader = csv.reader(fid)\n",
      "    for i, (name, state_id, population) in enumerate(reader):\n",
      "        city = City(name=name, state_id=state_id, population=population)\n",
      "        session.add(city)\n",
      "# objects are not written to DB before committing\n",
      "session.commit()"
     ],
     "language": "python",
     "metadata": {},
     "outputs": [],
     "prompt_number": 3
    },
    {
     "cell_type": "code",
     "collapsed": false,
     "input": [
      "cities = session.query(City).all()\n",
      "# Note that state is taken from the city table (lazy-loaded)\n",
      "cities[0].name, cities[0].state_id"
     ],
     "language": "python",
     "metadata": {},
     "outputs": [
      {
       "output_type": "pyout",
       "prompt_number": 4,
       "text": [
        "(u&apos;New York&apos;, 28)"
       ]
      }
     ],
     "prompt_number": 4
    },
    {
     "cell_type": "code",
     "collapsed": false,
     "input": [
      "texas_cities = session.query(City, State).filter(City.state_id==State.id).filter(State.name==\"Tex.\").all()\n",
      "texas_cities"
     ],
     "language": "python",
     "metadata": {},
     "outputs": [
      {
       "output_type": "pyout",
       "prompt_number": 10,
       "text": [
        "[(City(name=Houston, population=2099451), State(name=Tex.)),\n",
        " (City(name=San Antonio, population=1327407), State(name=Tex.)),\n",
        " (City(name=Dallas, population=1197816), State(name=Tex.)),\n",
        " (City(name=Austin, population=790390), State(name=Tex.)),\n",
        " (City(name=Fort Worth, population=741206), State(name=Tex.)),\n",
        " (City(name=El Paso, population=649121), State(name=Tex.)),\n",
        " (City(name=Arlington, population=365438), State(name=Tex.))]"
       ]
      }
     ],
     "prompt_number": 10
    },
    {
     "cell_type": "code",
     "collapsed": true,
     "input": [],
     "language": "python",
     "metadata": {},
     "outputs": [],
     "prompt_number": "&nbsp;"
    }
   ],
   "metadata": {}
  }
 ]
}